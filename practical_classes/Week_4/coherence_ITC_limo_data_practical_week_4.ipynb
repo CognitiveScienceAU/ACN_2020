{
 "cells": [
  {
   "cell_type": "code",
   "execution_count": null,
   "metadata": {},
   "outputs": [],
   "source": [
    "%matplotlib inline"
   ]
  },
  {
   "cell_type": "markdown",
   "metadata": {},
   "source": [
    "\n",
    "\n",
    "# Exploring coherence and ITC with the LIMO dataset\n",
    "\n",
    "Here we explore the structure of the data contained in the\n",
    "`LIMO dataset`.\n",
    "This example replicates and extends some of the main analysis\n",
    "and tools integrated in `LIMO MEEG`, a MATLAB toolbox originally designed\n",
    "to interface with EEGLAB.\n",
    "\n",
    "In summary, the example:\n",
    "\n",
    "- Fetches epoched data files for a single subject of the LIMO dataset [1]_.\n",
    "  If the LIMO files are not found on disk, the\n",
    "  fetcher :func:`mne.datasets.limo.load_data()` will automatically download\n",
    "  the files from a remote repository.\n",
    "\n",
    "- During import, information about the data (i.e., sampling rate, number of\n",
    "  epochs per condition, number and name of EEG channels per subject, etc.) is\n",
    "  extracted from the LIMO :file:`.mat` files stored on disk and added to the\n",
    "  epochs structure as metadata.\n",
    "\n",
    "- Plots and explores coherence as introduced by stimuli\n",
    "\n",
    "- Investigates the ITC and Power relations contained therein\n",
    "\n",
    "## References\n",
    ".. [1] Guillaume, Rousselet. (2016). LIMO EEG Dataset, [dataset].\n",
    "       University of Edinburgh, Centre for Clinical Brain Sciences.\n",
    "       https://doi.org/10.7488/ds/1556.\n",
    ".. [2] Rousselet, G. A., Gaspar, C. M., Pernet, C. R., Husk, J. S.,\n",
    "       Bennett, P. J., & Sekuler, A. B. (2010). Healthy aging delays scalp EEG\n",
    "       sensitivity to noise in a face discrimination task.\n",
    "       Frontiers in psychology, 1, 19. https://doi.org/10.3389/fpsyg.2010.00019\n",
    ".. [3] Rousselet, G. A., Pernet, C. R., Bennett, P. J., & Sekuler, A. B.\n",
    "       (2008). Parametric study of EEG sensitivity to phase noise during face\n",
    "       processing. BMC neuroscience, 9(1), 98.\n",
    "       https://doi.org/10.1186/1471-2202-9-98\n"
   ]
  },
  {
   "cell_type": "code",
   "execution_count": null,
   "metadata": {},
   "outputs": [],
   "source": [
    "# Authors: Jose C. Garcia Alanis <alanis.jcg@gmail.com>\n",
    "# AND now with edits by me: Jamie Lubell\n",
    "# License: BSD (3-clause)\n",
    "\n",
    "import numpy as np\n",
    "import matplotlib.pyplot as plt\n",
    "import mne\n",
    "\n",
    "from mne.datasets.limo import load_data\n",
    "from mne.stats import linear_regression\n",
    "from mne.viz import plot_events, plot_compare_evokeds\n",
    "from mne import combine_evoked\n",
    "from mne.time_frequency import tfr_morlet, psd_multitaper, psd_welch\n",
    "\n",
    "print(__doc__)\n",
    "\n",
    "# subject to use\n",
    "subj = 1"
   ]
  },
  {
   "cell_type": "markdown",
   "metadata": {},
   "source": [
    "[id]: https://media.springernature.com/full/springer-static/image/art%3A10.1186%2F1471-2202-9-98/MediaObjects/12868_2008_Article_781_Fig1_HTML.jpg?as=webp\n",
    "\n",
    "## About the data\n",
    "\n",
    "In the original LIMO experiment (see [2]), participants performed a\n",
    "two-alternative forced choice task, discriminating between two face stimuli.\n",
    "The same two faces were used during the whole experiment,\n",
    "with varying levels of noise added, making the faces more or less\n",
    "discernible to the observer (see `Fig 1` in [3] for a similar approach).\n",
    "\n",
    "![Alt text][id]\n",
    "\n",
    "The presented faces varied across a noise-signal (or phase-coherence)\n",
    "continuum spanning from 0 to 85% in increasing steps of 5%.\n",
    "In other words, faces with high phase-coherence (e.g., 85%) were easy to\n",
    "identify, while faces with low phase-coherence (e.g., 5%) were hard to\n",
    "identify and by extension very hard to discriminate.\n",
    "\n",
    "\n",
    "\n",
    "## Load the data\n",
    "\n",
    "We'll begin by loading the data from subject 1 of the LIMO dataset\n"
   ]
  },
  {
   "cell_type": "code",
   "execution_count": null,
   "metadata": {},
   "outputs": [],
   "source": [
    "# This step can take a little while if you're loading the data for the\n",
    "# first time.\n",
    "limo_epochs = load_data(subject=subj)"
   ]
  },
  {
   "cell_type": "markdown",
   "metadata": {},
   "source": [
    "Note that the result of the loading process is an\n",
    ":class:`mne.EpochsArray` containing the data ready to interface\n",
    "with MNE-Python.\n",
    "\n"
   ]
  },
  {
   "cell_type": "code",
   "execution_count": null,
   "metadata": {},
   "outputs": [],
   "source": [
    "print(limo_epochs)"
   ]
  },
  {
   "cell_type": "markdown",
   "metadata": {},
   "source": [
    "## Visualize events\n",
    "\n",
    "We can visualise the distribution of the face events contained in the\n",
    "``limo_epochs`` structure. Events should appear clearly grouped, as the\n",
    "epochs are ordered by condition.\n",
    "\n"
   ]
  },
  {
   "cell_type": "code",
   "execution_count": null,
   "metadata": {},
   "outputs": [],
   "source": [
    "fig = plot_events(limo_epochs.events, event_id=limo_epochs.event_id)\n",
    "fig.suptitle(\"Distribution of events in LIMO epochs\")"
   ]
  },
  {
   "cell_type": "markdown",
   "metadata": {},
   "source": [
    "As it can be seen above, conditions are coded as ``Face/A`` and ``Face/B``.\n",
    "Information about the phase-coherence of the presented faces is stored in the\n",
    "epochs metadata. These information can be easily accessed by calling\n",
    "``limo_epochs.metadata``. As shown below, the epochs metadata also contains\n",
    "information about the presented faces for convenience.\n",
    "\n"
   ]
  },
  {
   "cell_type": "code",
   "execution_count": null,
   "metadata": {},
   "outputs": [],
   "source": [
    "# We want include all columns in the summary table\n",
    "epochs_summary = limo_epochs.metadata.describe(include='all').round(3)\n",
    "print(epochs_summary)"
   ]
  },
  {
   "cell_type": "markdown",
   "metadata": {},
   "source": [
    "The first column of the summary table above provides more or less the same\n",
    "information as the ``print(limo_epochs)`` command. There are\n",
    "1055 faces (i.e., epochs), subdivided in 2 conditions (i.e., Face A and\n",
    "Face B) and, for this particular subject, there are more epochs for the\n",
    "condition Face B.\n",
    "\n",
    "In addition, we can see in the second column that the values for the\n",
    "phase-coherence variable range from -1.619 to 1.642. This is because the\n",
    "phase-coherence values are provided as a z-scored variable in the LIMO\n",
    "dataset. Note that they have a mean of zero and a standard deviation of 1.\n",
    "\n",
    "\n",
    "## Visualize condition ERPs\n",
    "\n",
    "Before plotting the ERPs evoked by Face A and Face B,let's make an educated guess as to whether face A or face B ERPs will be different.\n",
    "\n"
   ]
  },
  {
   "cell_type": "code",
   "execution_count": null,
   "metadata": {},
   "outputs": [],
   "source": [
    "# only show -250 to 500 ms\n",
    "ts_args = dict(xlim=(-0.25, 0.5))\n",
    "\n",
    "# plot evoked response for face A\n",
    "limo_epochs['Face/A'].average().plot_joint(times=[0.15],\n",
    "                                           title='Evoked response: Face A',\n",
    "                                           ts_args=ts_args);\n",
    "# and face B\n",
    "limo_epochs['Face/B'].average().plot_joint(times=[0.15],\n",
    "                                           title='Evoked response: Face B',\n",
    "                                           ts_args=ts_args);"
   ]
  },
  {
   "cell_type": "markdown",
   "metadata": {},
   "source": [
    "We can also compute the difference wave contrasting Face A and Face B.\n",
    "Although, looking at the evoked responses above, we shouldn't expect great\n",
    "differences among these face-stimuli.\n",
    "\n"
   ]
  },
  {
   "cell_type": "code",
   "execution_count": null,
   "metadata": {},
   "outputs": [],
   "source": [
    "# Face A minus Face B\n",
    "difference_wave = combine_evoked([limo_epochs['Face/A'].average(),\n",
    "                                  limo_epochs['Face/B'].average()],\n",
    "                                 weights=[1, -1])\n",
    "\n",
    "# plot difference wave\n",
    "difference_wave.plot_joint(times=[0.15], title='Difference Face A - Face B');"
   ]
  },
  {
   "cell_type": "markdown",
   "metadata": {},
   "source": [
    "# No Dice\n",
    "As expected, no clear pattern appears when contrasting\n",
    "Face A and Face B. However, we could narrow our search a little bit more.\n",
    "Since this is a \"visual paradigm\" it might be best to look at electrodes\n",
    "located over the occipital lobe, as differences between stimuli (if any)\n",
    "might easier to spot over visual areas.\n",
    "\n",
    "# Hypothesis as to where a difference in the data exists?\n",
    "Silly question, but relavent to what we've been talking about.\n"
   ]
  },
  {
   "cell_type": "markdown",
   "metadata": {},
   "source": [
    "## Visualize effect of stimulus phase-coherence\n",
    "\n",
    "Since phase-coherence\n",
    "determined whether a face stimulus could be easily identified,\n",
    "one could expect that faces with high phase-coherence should evoke stronger\n",
    "activation patterns along occipital electrodes.\n",
    "\n"
   ]
  },
  {
   "cell_type": "code",
   "execution_count": null,
   "metadata": {
    "scrolled": false
   },
   "outputs": [],
   "source": [
    "phase_coh = limo_epochs.metadata['phase-coherence']\n",
    "# get levels of phase coherence\n",
    "levels = sorted(phase_coh.unique())\n",
    "# create labels for levels of phase coherence (i.e., 0 - 85%)\n",
    "labels = [\"{0:.2f}\".format(i) for i in np.arange(0., 0.90, 0.05)]\n",
    "\n",
    "# create dict of evokeds for each level of phase-coherence\n",
    "evokeds = {label: limo_epochs[phase_coh == level].average()\n",
    "           for level, label in zip(levels, labels)}\n",
    "\n",
    "# pick channel to plot\n",
    "electrodes = ['C22', 'B11']\n",
    "# create figures\n",
    "for electrode in electrodes:\n",
    "    fig, ax = plt.subplots(figsize=(8, 4))\n",
    "    plot_compare_evokeds(evokeds,\n",
    "                         axes=ax,\n",
    "                         ylim=dict(eeg=(-20, 15)),\n",
    "                         picks=electrode,\n",
    "                         cmap=(\"Phase coherence\", \"magma\"))"
   ]
  },
  {
   "cell_type": "markdown",
   "metadata": {},
   "source": [
    "# Describe\n",
    "While inspecting the difference between these plots let's describe the differences between them.\n",
    "- polarity\n",
    "- location\n",
    "- variance\n",
    "- spread\n",
    "\n",
    "# WHY\n",
    "Give me some ideas as to why stimuli coherence would produce plots like this\n",
    "Think about the underlying mechanisms that might be driving this\n",
    "What neuronal populations does EEG and MEEG mainly capture.\n",
    "Is there a better way to visual demonstrate (describe) what's going on here?"
   ]
  },
  {
   "cell_type": "markdown",
   "metadata": {},
   "source": [
    "# Power & ITC\n",
    "Having determined that there is no real difference between the the conditions Face A and Face B, and that the real difference depends on the amount of phase coherence of the stimuli, we can continue exploring the effect of PC in the data but now with power and ITC.  Crucially, we mustn't worry about A and B faces anymore and can collapse those conditions.\n",
    "\n",
    "First let's take a look at the spatial distributions of the PSD and get an idea for the terrain.\n",
    "\n",
    "For reference, I used the exact same code from last week's practical with only a couple of tweaks.  This is a good example of how building well documented and clear code can be repurposed for further projects etc.  Don't work twice as hard on stuff you've already done."
   ]
  },
  {
   "cell_type": "code",
   "execution_count": null,
   "metadata": {},
   "outputs": [],
   "source": [
    "# look at certain bands and at the extremes of PC, I dropped gamma because it's not relevant\n",
    "bands = [(0, 4, 'Delta'), (4, 8, 'Theta'), (8, 12, 'Alpha'),\n",
    "                 (12, 30, 'Beta')]"
   ]
  },
  {
   "cell_type": "code",
   "execution_count": null,
   "metadata": {},
   "outputs": [],
   "source": [
    "# What does levels[0] and levels[-1] give us?\n",
    "limo_epochs[phase_coh == levels[0]].plot_psd_topomap(bands=bands, ch_type='eeg',\n",
    "                                                     normalize=True);\n",
    "limo_epochs[phase_coh == levels[-1]].plot_psd_topomap(bands=bands, ch_type='eeg',\n",
    "                                                      normalize=True);"
   ]
  },
  {
   "cell_type": "markdown",
   "metadata": {},
   "source": [
    "# Describe\n",
    "Anything interesting in comparing the different types of stimuli coherence in the psd bands as we've defined them?\n",
    "\n",
    "Let's continue on and look at power and intertrial phase coherence"
   ]
  },
  {
   "cell_type": "code",
   "execution_count": null,
   "metadata": {},
   "outputs": [],
   "source": [
    "# define frequencies of interest (log-spaced): extract power and ITC\n",
    "picks = mne.pick_types(limo_epochs.info, meg=False, eeg=True, eog=False, stim=False)\n",
    "freqs = np.logspace(*np.log10([6, 35]), num=8)\n",
    "n_cycles = freqs / 2.  # different number of cycle per frequency\n",
    "power_high, itc_high = tfr_morlet(limo_epochs[phase_coh == levels[-1]],\n",
    "                        freqs=freqs, n_cycles=n_cycles, use_fft=True,\n",
    "                        return_itc=True, decim=3, n_jobs=1, picks=picks)\n",
    "power_low, itc_low = tfr_morlet(limo_epochs[phase_coh == levels[0]],\n",
    "                        freqs=freqs, n_cycles=n_cycles, use_fft=True,\n",
    "                        return_itc=True, decim=3, n_jobs=1, picks=picks)"
   ]
  },
  {
   "cell_type": "code",
   "execution_count": null,
   "metadata": {},
   "outputs": [],
   "source": [
    "# Come back later and uncomment if you want popout graphs\n",
    "# %matplotlib qt"
   ]
  },
  {
   "cell_type": "code",
   "execution_count": null,
   "metadata": {},
   "outputs": [],
   "source": [
    "# choose an occipital elec: Same as for ERPs to maintain continuity\n",
    "pick = 36  # B11 - But try others!\n",
    "print(power_high.ch_names[pick])"
   ]
  },
  {
   "cell_type": "markdown",
   "metadata": {},
   "source": [
    "# First power\n",
    "Remember that power is derived by taking the absolute values of the fourier coefficients and squaring them.  MNE has done that for us but is good to keep in mind the math going on in the background."
   ]
  },
  {
   "cell_type": "code",
   "execution_count": null,
   "metadata": {},
   "outputs": [],
   "source": [
    "# Plot the power at one electrode\n",
    "blMode = 'logratio'\n",
    "figch, axis = plt.subplots(1, 2, figsize=(13, 6))\n",
    "power_high.plot([pick], baseline=(-0.2, 0), mode=blMode, axes=axis[0], show=False)\n",
    "power_low.plot([pick], baseline=(-0.2, 0), mode=blMode, axes=axis[1], show=False)\n",
    "axis[0].set(title=power_high.ch_names[pick] + ' high PC')\n",
    "axis[1].set(title=power_high.ch_names[pick] + ' low PC')\n",
    "mne.viz.tight_layout()\n",
    "plt.show();"
   ]
  },
  {
   "cell_type": "markdown",
   "metadata": {},
   "source": [
    "# Describe\n",
    "Alright, we now have a plot of the power at the same electrode (B11) which we plotted ERPs for above.  The plot on the left is high stimuli PC and the right is low stimuli PC.\n",
    "- latency\n",
    "- bands\n",
    "- strength\n",
    "- duration\n",
    "\n",
    "Let's broaden our focus but now with the knowledge we got from the above plots"
   ]
  },
  {
   "cell_type": "code",
   "execution_count": null,
   "metadata": {
    "scrolled": false
   },
   "outputs": [],
   "source": [
    "# general definitions\n",
    "bl, tmax, ch = (-0.2, 0), 0.35, 'eeg'\n",
    "\n",
    "# relevant to the above plots definitions\n",
    "fmin1, fmax1, fmin2, fmax2, tmin, tmax = \n",
    "\n",
    "fig, axis = plt.subplots(2, 2, figsize=(13, 6))\n",
    "power_high.plot_topomap(ch_type=ch, tmin=tmin, tmax=tmax, fmin=fmin1, fmax=fmax1,\n",
    "                   baseline=bl, mode=blMode, axes=axis[0, 0],\n",
    "                   title=str(fmin1) + ':' + str(fmax1) + ' hz PC-H', show=False)\n",
    "power_high.plot_topomap(ch_type='eeg', tmin=tmin, tmax=tmax, fmin=fmin2, fmax=fmax2,\n",
    "                   baseline=bl, mode=blMode, axes=axis[1, 0],\n",
    "                   title=str(fmin2) + ':' + str(fmax2) + ' hz PC-H', show=False)\n",
    "power_low.plot_topomap(ch_type='eeg', tmin=tmin, tmax=tmax, fmin=fmin1, fmax=fmax1,\n",
    "                   baseline=bl, mode=blMode, axes=axis[0, 1],\n",
    "                   title=str(fmin1) + ':' + str(fmax1) + ' hz PC-L', show=False)\n",
    "power_low.plot_topomap(ch_type='eeg', tmin=tmin, tmax=tmax, fmin=fmin2, fmax=fmax2,\n",
    "                   baseline=bl, mode=blMode, axes=axis[1, 1],\n",
    "                   title=str(fmin2) + ':' + str(fmax2) + ' hz PC-L', show=False)\n",
    "mne.viz.tight_layout()\n",
    "plt.show();"
   ]
  },
  {
   "cell_type": "markdown",
   "metadata": {},
   "source": [
    "# Describe\n",
    "What have we got? can you come up with any other frequency combinations that are interesting?\n",
    "6, 8, 15, 25, 0.05, 0.35\n",
    "## Investigating further with ITC\n",
    "Power can only tell us so much, maybe can we get a fuller explanation of the data using ITC?\n",
    "Let's begin the same way we did above with power and plot the ITC at B11 and the power again for comparison's sake.\n",
    "\n",
    "## NB\n",
    "To derive ITC we convert our Fourier coefficients to phase angles. To convert to phase angles we set the magnitude to 1 and locate them on the unit circle. I can draw a polar plot (if necessary) that shows the position of each of the phase angles on the unit circle at single point for each trial."
   ]
  },
  {
   "cell_type": "code",
   "execution_count": null,
   "metadata": {},
   "outputs": [],
   "source": [
    "blMode = 'logratio'\n",
    "fig, axis = plt.subplots(2, 2, figsize=(15, 8))\n",
    "itc_high.plot(pick, baseline=(-0.3, -0.01), mode=blMode, axes=axis[0,0], show=False);\n",
    "itc_low.plot(pick, baseline=(-0.3, -0.01), mode=blMode, axes=axis[0,1], show=False);\n",
    "mne.viz.tight_layout()\n",
    "axis[0,0].set(title='High-PC ITC')\n",
    "axis[0,1].set(title='Low-PC ITC')\n",
    "\n",
    "power_low.plot(pick, baseline=(-0.3, -0.01), mode=blMode, axes=axis[1,1], show=False);\n",
    "power_high.plot(pick, baseline=(-0.3, -0.01), mode=blMode, axes=axis[1,0], show=False);\n",
    "\n",
    "axis[1,1].set(title='Low-PC PWR')\n",
    "axis[1,0].set(title='High-PC PWR')\n",
    "plt.show();\n",
    "\n"
   ]
  },
  {
   "cell_type": "markdown",
   "metadata": {},
   "source": [
    "# Describe\n",
    "Alright, we now have a plot of the ITC at our old friend B11 and the power again. What's changed?\n",
    "\n",
    "- latency\n",
    "- bands\n",
    "- strength\n",
    "- duration\n",
    "\n",
    "Why the difference?  What is ITC telling us as compared to power?\n",
    "Think about and show what these ITC plots tell us about stimuli phase coherence and what's going on in the brain.\n",
    "\n",
    "# Explore \n",
    "From here on out you can use MNE plotting tools to check other things about the effect:\n",
    "- Check to see if this holds across electrodes or is region dependent\n",
    "- Timing/Latency\n",
    "- Bands"
   ]
  },
  {
   "cell_type": "code",
   "execution_count": null,
   "metadata": {},
   "outputs": [],
   "source": [
    "# Mess around with the baseline method later ('mean','zscore','ratio','zlogratio' )\n",
    "# blMode = 'zscore'\n",
    "# Nice regexp trick with MNE and channels\n",
    "picks = mne.pick_channels_regexp(itc_high.ch_names, '^B1.')\n",
    "# but for this let's just two (can't be one) for demo\n",
    "picks = [36, 37]"
   ]
  },
  {
   "cell_type": "code",
   "execution_count": null,
   "metadata": {
    "scrolled": false
   },
   "outputs": [],
   "source": [
    "# The baseline method we've been using 'logratio' doesn't play well with joint\n",
    "# Other methods for baslining should be used to get out topomaps\n",
    "itc_high.plot_joint(baseline=(-0.3, -0.001), mode=blMode, tmin=-.2, tmax=0.5,\n",
    "                 timefreqs=[(.12, 21), (.14, 7.5)], picks=picks, title='High-PC');\n",
    "itc_low.plot_joint(baseline=(-0.3, -0.001), mode=blMode, tmin=-.2, tmax=0.5,\n",
    "                 timefreqs=[(.12, 21), (.14, 7.5)], picks=picks, title='Low-PC');\n",
    "\n",
    "\n",
    "# create dict of evokeds for each level of phase-coherence\n",
    "evokeds = {label: limo_epochs[phase_coh == level].average()\n",
    "           for level, label in zip(levels[1::5], labels[1::5])}\n",
    "\n",
    "# pick channel to plot\n",
    "electrodes = ['B11']\n",
    "# create figures\n",
    "for electrode in electrodes:\n",
    "    fig, ax = plt.subplots(figsize=(8, 4))\n",
    "    plot_compare_evokeds(evokeds,\n",
    "                         axes=ax,\n",
    "                         ylim=dict(eeg=(-20, 15)),\n",
    "                         picks=electrode,\n",
    "                         cmap=(\"Phase coherence\", \"magma\"))"
   ]
  },
  {
   "cell_type": "markdown",
   "metadata": {},
   "source": [
    "# Compare the ERP and the ITC plots\n",
    "Think about evoked and induced"
   ]
  },
  {
   "cell_type": "markdown",
   "metadata": {},
   "source": [
    "# In class\n",
    "- Find a better electrodes to exemplify what we see\n",
    "- Think/Show what the ITC for mid PC in stimuli would look like\n",
    "- Change the baseline method\n",
    "\n",
    "# HW\n",
    "Your work for over the break (yeah that's right, welcome to the big leaguges) is to give me a a testable hypothesis as to the relationship between ITC and stimuli phase coherence."
   ]
  }
 ],
 "metadata": {
  "kernelspec": {
   "display_name": "Python 3",
   "language": "python",
   "name": "python3"
  },
  "language_info": {
   "codemirror_mode": {
    "name": "ipython",
    "version": 3
   },
   "file_extension": ".py",
   "mimetype": "text/x-python",
   "name": "python",
   "nbconvert_exporter": "python",
   "pygments_lexer": "ipython3",
   "version": "3.8.5"
  }
 },
 "nbformat": 4,
 "nbformat_minor": 1
}
