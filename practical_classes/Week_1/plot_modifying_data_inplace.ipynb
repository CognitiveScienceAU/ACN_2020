{
 "cells": [
  {
   "cell_type": "code",
   "execution_count": null,
   "metadata": {},
   "outputs": [],
   "source": [
    "%matplotlib inline"
   ]
  },
  {
   "cell_type": "markdown",
   "metadata": {},
   "source": [
    "\n",
    "\n",
    "# Modifying data in-place\n",
    "\n",
    "It is often necessary to modify data once you have loaded it into memory.\n",
    "Common examples of this are signal processing, feature extraction, and data\n",
    "cleaning. Some functionality is pre-built into MNE-python, though it is also\n",
    "possible to apply an arbitrary function to the data.\n"
   ]
  },
  {
   "cell_type": "code",
   "execution_count": null,
   "metadata": {},
   "outputs": [],
   "source": [
    "import mne\n",
    "import os.path as op\n",
    "import numpy as np\n",
    "from matplotlib import pyplot as plt"
   ]
  },
  {
   "cell_type": "markdown",
   "metadata": {},
   "source": [
    "Load an example dataset, the preload flag loads the data into memory now\n",
    "\n"
   ]
  },
  {
   "cell_type": "code",
   "execution_count": null,
   "metadata": {},
   "outputs": [],
   "source": [
    "data_path = op.join(mne.datasets.sample.data_path(), 'MEG',\n",
    "                    'sample', 'sample_audvis_raw.fif')\n",
    "raw = mne.io.read_raw_fif(data_path, preload=True)\n",
    "raw = raw.crop(0, 10)\n",
    "print(raw)"
   ]
  },
  {
   "cell_type": "markdown",
   "metadata": {},
   "source": [
    "## Signal processing\n",
    "\n",
    "Most MNE objects have in-built methods for filtering:\n",
    "\n"
   ]
  },
  {
   "cell_type": "code",
   "execution_count": null,
   "metadata": {},
   "outputs": [],
   "source": [
    "filt_bands = [(1, 3), (3, 10), (10, 20), (20, 60)]\n",
    "_, (ax, ax2) = plt.subplots(2, 1, figsize=(15, 10))\n",
    "data, times = raw[0]\n",
    "_ = ax.plot(data[0])\n",
    "for fmin, fmax in filt_bands:\n",
    "    raw_filt = raw.copy()\n",
    "    raw_filt.filter(fmin, fmax, fir_design='firwin')\n",
    "    _ = ax2.plot(raw_filt[0][0][0])\n",
    "ax2.legend(filt_bands)\n",
    "ax.set_title('Raw data')\n",
    "ax2.set_title('Band-pass filtered data')"
   ]
  },
  {
   "cell_type": "markdown",
   "metadata": {},
   "source": [
    "In addition, there are functions for applying the Hilbert transform, which is\n",
    "useful to calculate phase / amplitude of your signal.\n",
    "\n"
   ]
  },
  {
   "cell_type": "code",
   "execution_count": null,
   "metadata": {},
   "outputs": [],
   "source": [
    "# Filter signal with a fairly steep filter, then take hilbert transform\n",
    "\n",
    "raw_band = raw.copy()\n",
    "raw_band.filter(12, 18, l_trans_bandwidth=2., h_trans_bandwidth=2.,\n",
    "                fir_design='firwin')\n",
    "raw_hilb = raw_band.copy()\n",
    "hilb_picks = mne.pick_types(raw_band.info, meg=False, eeg=True)\n",
    "raw_hilb.apply_hilbert(hilb_picks)\n",
    "print(raw_hilb[0][0].dtype)"
   ]
  },
  {
   "cell_type": "markdown",
   "metadata": {},
   "source": [
    "Finally, it is possible to apply arbitrary functions to your data to do\n",
    "what you want. Here we will use this to take the amplitude and phase of\n",
    "the hilbert transformed data.\n",
    "\n",
    "<div class=\"alert alert-info\"><h4>Note</h4><p>You can also use ``envelope=True`` in the call to\n",
    "          :meth:`mne.io.Raw.apply_hilbert` to do this automatically.</p></div>\n",
    "\n",
    "\n"
   ]
  },
  {
   "cell_type": "code",
   "execution_count": null,
   "metadata": {},
   "outputs": [],
   "source": [
    "# Take the amplitude and phase\n",
    "raw_amp = raw_hilb.copy()\n",
    "raw_amp.apply_function(np.abs, hilb_picks)\n",
    "raw_phase = raw_hilb.copy()\n",
    "raw_phase.apply_function(np.angle, hilb_picks)\n",
    "\n",
    "_, (a1, a2) = plt.subplots(2, 1, figsize=(15, 10))\n",
    "a1.plot(raw_band[hilb_picks[0]][0][0].real)\n",
    "a1.plot(raw_amp[hilb_picks[0]][0][0].real)\n",
    "a2.plot(raw_phase[hilb_picks[0]][0][0].real)\n",
    "a1.set_title('Amplitude of frequency band')\n",
    "a2.set_title('Phase of frequency band')"
   ]
  },
  {
   "cell_type": "code",
   "execution_count": null,
   "metadata": {},
   "outputs": [],
   "source": []
  }
 ],
 "metadata": {
  "kernelspec": {
   "display_name": "Python 3",
   "language": "python",
   "name": "python3"
  },
  "language_info": {
   "codemirror_mode": {
    "name": "ipython",
    "version": 3
   },
   "file_extension": ".py",
   "mimetype": "text/x-python",
   "name": "python",
   "nbconvert_exporter": "python",
   "pygments_lexer": "ipython3",
   "version": "3.8.5"
  }
 },
 "nbformat": 4,
 "nbformat_minor": 1
}
