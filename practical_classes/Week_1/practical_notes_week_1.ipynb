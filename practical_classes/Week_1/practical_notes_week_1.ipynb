{
 "cells": [
  {
   "cell_type": "markdown",
   "metadata": {},
   "source": [
    "# Numpy and Scipy\n",
    "## Today in class we'll cover scalars, arrays, tensors, matrices, and some basic programming stuff.\n",
    "\n",
    "First let's learn some commands\n",
    "\n",
    "* `Shift + Enter` run the current cell, select below\n",
    "* `Ctrl + Enter` run selected cells\n",
    "* `Alt + Enter` run the current cell, insert below\n",
    "* `Ctrl + S` save and checkpoint\n",
    "\n",
    "If you're using a mac:\n",
    "* Ctrl = command key ⌘\n",
    "* Shift  = Shift ⇧\n",
    "* Alt  = option ⌥\n",
    "\n",
    "I got these from here where there are more commands hints etc.:\n",
    "https://towardsdatascience.com/jypyter-notebook-shortcuts-bf0101a98330\n",
    "\n",
    "# Saving\n",
    "For today it won't be an issue, but remember that everytime you save this document and if it perhaps differs from what's on github, the next time you run `git pull` you'll overwrite your local files in the adv_cognitive_neuroscience directory.  That is why I highly recommend making your own branch (or fork) or figuring out a way to not overwrite future file.\n",
    "\n",
    "But for today I don't imagine you'll make too many personal edits to this file in need of preserving."
   ]
  },
  {
   "cell_type": "markdown",
   "metadata": {},
   "source": [
    "# Basic notebook stuff\n",
    "## let's start with the shift + enter command"
   ]
  },
  {
   "cell_type": "code",
   "execution_count": null,
   "metadata": {},
   "outputs": [],
   "source": [
    "# this is the first cell that we'll actually execute\n",
    "print('welcome to week 1')"
   ]
  },
  {
   "cell_type": "code",
   "execution_count": null,
   "metadata": {},
   "outputs": [],
   "source": [
    "# The idea here is that we can put a portion or snippet of code into one of these cells\n",
    "# and immediately see its output.  This helps keep science and code tidy while also\n",
    "# making code readable to others.\n",
    "for i in range(12):\n",
    "    textToPrint = \"welcome to week \" + str(i)\n",
    "    print(textToPrint)\n"
   ]
  },
  {
   "cell_type": "markdown",
   "metadata": {},
   "source": [
    "# Libaries\n",
    "The code that we've run so far (i.e., `print` `for` `range`) all relies on built-in functions that come stock with python installs. Families of functions that aren't prepackaged with python do exist, are immensely useful, and are typically released as a library.\n",
    "\n",
    "When we created the environment acn we automated the installation of a lot of libraries that contain functions necessary for what we want to do to data.  Two bedrock libraries for almost anybody working with data are numpy and scipy and the way that you let python know that you want to use their functions in the code you're writing is with the following syntax:\n",
    "\n",
    "><p>import numpy as np</p>\n",
    "import scipy as sp\n",
    "\n",
    "In the next cell is a little example of some of the commands that are within numpy"
   ]
  },
  {
   "cell_type": "code",
   "execution_count": null,
   "metadata": {},
   "outputs": [],
   "source": [
    "import numpy as np # here we tell python will be using numpy's functions abrv as np\n",
    "a = np.arange(15).reshape(3, 5) # here we ask np to make a range (0-14) with a shape\n",
    "a # display the matrix"
   ]
  },
  {
   "cell_type": "markdown",
   "metadata": {},
   "source": [
    "# Scalars\n",
    "## Scalars can seem a bit complex at first \n",
    "Look at this this table is from the numpy website:\n",
    "<p>Booleans:</p>\n",
    "<table class=\"docutils align-default\">\n",
    "<colgroup>\n",
    "<col style=\"width: 30%\" />\n",
    "<col style=\"width: 46%\" />\n",
    "<col style=\"width: 24%\" />\n",
    "</colgroup>\n",
    "<thead>\n",
    "<tr class=\"row-odd\"><th class=\"head\"><p>Type</p></th>\n",
    "<th class=\"head\"><p>Remarks</p></th>\n",
    "<th class=\"head\"><p>Character code</p></th>\n",
    "</tr>\n",
    "</thead>\n",
    "<tbody>\n",
    "<tr class=\"row-even\"><td><p><code class=\"xref py py-class docutils literal notranslate\"><span class=\"pre\">bool_</span></code></p></td>\n",
    "<td><p>compatible: Python bool</p></td>\n",
    "<td><p><code class=\"docutils literal notranslate\"><span class=\"pre\">'?'</span></code></p></td>\n",
    "</tr>\n",
    "<tr class=\"row-odd\"><td><p><code class=\"xref py py-class docutils literal notranslate\"><span class=\"pre\">bool8</span></code></p></td>\n",
    "<td><p>8 bits</p></td>\n",
    "<td></td>\n",
    "</tr>\n",
    "</tbody>\n",
    "</table>\n",
    "<p>Integers:</p>\n",
    "<table class=\"docutils align-default\">\n",
    "<colgroup>\n",
    "<col style=\"width: 30%\" />\n",
    "<col style=\"width: 46%\" />\n",
    "<col style=\"width: 24%\" />\n",
    "</colgroup>\n",
    "<tbody>\n",
    "<tr class=\"row-odd\"><td><p><code class=\"xref py py-class docutils literal notranslate\"><span class=\"pre\">byte</span></code></p></td>\n",
    "<td><p>compatible: C char</p></td>\n",
    "<td><p><code class=\"docutils literal notranslate\"><span class=\"pre\">'b'</span></code></p></td>\n",
    "</tr>\n",
    "<tr class=\"row-even\"><td><p><code class=\"xref py py-class docutils literal notranslate\"><span class=\"pre\">short</span></code></p></td>\n",
    "<td><p>compatible: C short</p></td>\n",
    "<td><p><code class=\"docutils literal notranslate\"><span class=\"pre\">'h'</span></code></p></td>\n",
    "</tr>\n",
    "<tr class=\"row-odd\"><td><p><code class=\"xref py py-class docutils literal notranslate\"><span class=\"pre\">intc</span></code></p></td>\n",
    "<td><p>compatible: C int</p></td>\n",
    "<td><p><code class=\"docutils literal notranslate\"><span class=\"pre\">'i'</span></code></p></td>\n",
    "</tr>\n",
    "<tr class=\"row-even\"><td><p><code class=\"xref py py-class docutils literal notranslate\"><span class=\"pre\">int_</span></code></p></td>\n",
    "<td><p>compatible: Python int</p></td>\n",
    "<td><p><code class=\"docutils literal notranslate\"><span class=\"pre\">'l'</span></code></p></td>\n",
    "</tr>\n",
    "<tr class=\"row-odd\"><td><p><code class=\"xref py py-class docutils literal notranslate\"><span class=\"pre\">longlong</span></code></p></td>\n",
    "<td><p>compatible: C long long</p></td>\n",
    "<td><p><code class=\"docutils literal notranslate\"><span class=\"pre\">'q'</span></code></p></td>\n",
    "</tr>\n",
    "<tr class=\"row-even\"><td><p><code class=\"xref py py-class docutils literal notranslate\"><span class=\"pre\">intp</span></code></p></td>\n",
    "<td><p>large enough to fit a pointer</p></td>\n",
    "<td><p><code class=\"docutils literal notranslate\"><span class=\"pre\">'p'</span></code></p></td>\n",
    "</tr>\n",
    "<tr class=\"row-odd\"><td><p><code class=\"xref py py-class docutils literal notranslate\"><span class=\"pre\">int8</span></code></p></td>\n",
    "<td><p>8 bits</p></td>\n",
    "<td></td>\n",
    "</tr>\n",
    "<tr class=\"row-even\"><td><p><code class=\"xref py py-class docutils literal notranslate\"><span class=\"pre\">int16</span></code></p></td>\n",
    "<td><p>16 bits</p></td>\n",
    "<td></td>\n",
    "</tr>\n",
    "<tr class=\"row-odd\"><td><p><code class=\"xref py py-class docutils literal notranslate\"><span class=\"pre\">int32</span></code></p></td>\n",
    "<td><p>32 bits</p></td>\n",
    "<td></td>\n",
    "</tr>\n",
    "<tr class=\"row-even\"><td><p><code class=\"xref py py-class docutils literal notranslate\"><span class=\"pre\">int64</span></code></p></td>\n",
    "<td><p>64 bits</p></td>\n",
    "<td></td>\n",
    "</tr>\n",
    "</tbody>\n",
    "</table>\n",
    "<p>Unsigned integers:</p>\n",
    "<table class=\"docutils align-default\">\n",
    "<colgroup>\n",
    "<col style=\"width: 30%\" />\n",
    "<col style=\"width: 46%\" />\n",
    "<col style=\"width: 24%\" />\n",
    "</colgroup>\n",
    "<tbody>\n",
    "<tr class=\"row-odd\"><td><p><code class=\"xref py py-class docutils literal notranslate\"><span class=\"pre\">ubyte</span></code></p></td>\n",
    "<td><p>compatible: C unsigned char</p></td>\n",
    "<td><p><code class=\"docutils literal notranslate\"><span class=\"pre\">'B'</span></code></p></td>\n",
    "</tr>\n",
    "<tr class=\"row-even\"><td><p><code class=\"xref py py-class docutils literal notranslate\"><span class=\"pre\">ushort</span></code></p></td>\n",
    "<td><p>compatible: C unsigned short</p></td>\n",
    "<td><p><code class=\"docutils literal notranslate\"><span class=\"pre\">'H'</span></code></p></td>\n",
    "</tr>\n",
    "<tr class=\"row-odd\"><td><p><code class=\"xref py py-class docutils literal notranslate\"><span class=\"pre\">uintc</span></code></p></td>\n",
    "<td><p>compatible: C unsigned int</p></td>\n",
    "<td><p><code class=\"docutils literal notranslate\"><span class=\"pre\">'I'</span></code></p></td>\n",
    "</tr>\n",
    "<tr class=\"row-even\"><td><p><code class=\"xref py py-class docutils literal notranslate\"><span class=\"pre\">uint</span></code></p></td>\n",
    "<td><p>compatible: Python int</p></td>\n",
    "<td><p><code class=\"docutils literal notranslate\"><span class=\"pre\">'L'</span></code></p></td>\n",
    "</tr>\n",
    "<tr class=\"row-odd\"><td><p><code class=\"xref py py-class docutils literal notranslate\"><span class=\"pre\">ulonglong</span></code></p></td>\n",
    "<td><p>compatible: C long long</p></td>\n",
    "<td><p><code class=\"docutils literal notranslate\"><span class=\"pre\">'Q'</span></code></p></td>\n",
    "</tr>\n",
    "<tr class=\"row-even\"><td><p><code class=\"xref py py-class docutils literal notranslate\"><span class=\"pre\">uintp</span></code></p></td>\n",
    "<td><p>large enough to fit a pointer</p></td>\n",
    "<td><p><code class=\"docutils literal notranslate\"><span class=\"pre\">'P'</span></code></p></td>\n",
    "</tr>\n",
    "<tr class=\"row-odd\"><td><p><code class=\"xref py py-class docutils literal notranslate\"><span class=\"pre\">uint8</span></code></p></td>\n",
    "<td><p>8 bits</p></td>\n",
    "<td></td>\n",
    "</tr>\n",
    "<tr class=\"row-even\"><td><p><code class=\"xref py py-class docutils literal notranslate\"><span class=\"pre\">uint16</span></code></p></td>\n",
    "<td><p>16 bits</p></td>\n",
    "<td></td>\n",
    "</tr>\n",
    "<tr class=\"row-odd\"><td><p><code class=\"xref py py-class docutils literal notranslate\"><span class=\"pre\">uint32</span></code></p></td>\n",
    "<td><p>32 bits</p></td>\n",
    "<td></td>\n",
    "</tr>\n",
    "<tr class=\"row-even\"><td><p><code class=\"xref py py-class docutils literal notranslate\"><span class=\"pre\">uint64</span></code></p></td>\n",
    "<td><p>64 bits</p></td>\n",
    "<td></td>\n",
    "</tr>\n",
    "</tbody>\n",
    "</table>\n",
    "<p>Floating-point numbers:</p>\n",
    "<table class=\"docutils align-default\">\n",
    "<colgroup>\n",
    "<col style=\"width: 30%\" />\n",
    "<col style=\"width: 46%\" />\n",
    "<col style=\"width: 24%\" />\n",
    "</colgroup>\n",
    "<tbody>\n",
    "<tr class=\"row-odd\"><td><p><code class=\"xref py py-class docutils literal notranslate\"><span class=\"pre\">half</span></code></p></td>\n",
    "<td></td>\n",
    "<td><p><code class=\"docutils literal notranslate\"><span class=\"pre\">'e'</span></code></p></td>\n",
    "</tr>\n",
    "<tr class=\"row-even\"><td><p><code class=\"xref py py-class docutils literal notranslate\"><span class=\"pre\">single</span></code></p></td>\n",
    "<td><p>compatible: C float</p></td>\n",
    "<td><p><code class=\"docutils literal notranslate\"><span class=\"pre\">'f'</span></code></p></td>\n",
    "</tr>\n",
    "<tr class=\"row-odd\"><td><p><code class=\"xref py py-class docutils literal notranslate\"><span class=\"pre\">double</span></code></p></td>\n",
    "<td><p>compatible: C double</p></td>\n",
    "<td></td>\n",
    "</tr>\n",
    "<tr class=\"row-even\"><td><p><code class=\"xref py py-class docutils literal notranslate\"><span class=\"pre\">float_</span></code></p></td>\n",
    "<td><p>compatible: Python float</p></td>\n",
    "<td><p><code class=\"docutils literal notranslate\"><span class=\"pre\">'d'</span></code></p></td>\n",
    "</tr>\n",
    "<tr class=\"row-odd\"><td><p><code class=\"xref py py-class docutils literal notranslate\"><span class=\"pre\">longfloat</span></code></p></td>\n",
    "<td><p>compatible: C long float</p></td>\n",
    "<td><p><code class=\"docutils literal notranslate\"><span class=\"pre\">'g'</span></code></p></td>\n",
    "</tr>\n",
    "<tr class=\"row-even\"><td><p><code class=\"xref py py-class docutils literal notranslate\"><span class=\"pre\">float16</span></code></p></td>\n",
    "<td><p>16 bits</p></td>\n",
    "<td></td>\n",
    "</tr>\n",
    "<tr class=\"row-odd\"><td><p><code class=\"xref py py-class docutils literal notranslate\"><span class=\"pre\">float32</span></code></p></td>\n",
    "<td><p>32 bits</p></td>\n",
    "<td></td>\n",
    "</tr>\n",
    "<tr class=\"row-even\"><td><p><code class=\"xref py py-class docutils literal notranslate\"><span class=\"pre\">float64</span></code></p></td>\n",
    "<td><p>64 bits</p></td>\n",
    "<td></td>\n",
    "</tr>\n",
    "<tr class=\"row-odd\"><td><p><code class=\"xref py py-class docutils literal notranslate\"><span class=\"pre\">float96</span></code></p></td>\n",
    "<td><p>96 bits, platform?</p></td>\n",
    "<td></td>\n",
    "</tr>\n",
    "<tr class=\"row-even\"><td><p><code class=\"xref py py-class docutils literal notranslate\"><span class=\"pre\">float128</span></code></p></td>\n",
    "<td><p>128 bits, platform?</p></td>\n",
    "<td></td>\n",
    "</tr>\n",
    "</tbody>\n",
    "</table>\n",
    "<p>Complex floating-point numbers:</p>\n",
    "<table class=\"docutils align-default\">\n",
    "<colgroup>\n",
    "<col style=\"width: 30%\" />\n",
    "<col style=\"width: 46%\" />\n",
    "<col style=\"width: 24%\" />\n",
    "</colgroup>\n",
    "<tbody>\n",
    "<tr class=\"row-odd\"><td><p><code class=\"xref py py-class docutils literal notranslate\"><span class=\"pre\">csingle</span></code></p></td>\n",
    "<td></td>\n",
    "<td><p><code class=\"docutils literal notranslate\"><span class=\"pre\">'F'</span></code></p></td>\n",
    "</tr>\n",
    "<tr class=\"row-even\"><td><p><code class=\"xref py py-class docutils literal notranslate\"><span class=\"pre\">complex_</span></code></p></td>\n",
    "<td><p>compatible: Python complex</p></td>\n",
    "<td><p><code class=\"docutils literal notranslate\"><span class=\"pre\">'D'</span></code></p></td>\n",
    "</tr>\n",
    "<tr class=\"row-odd\"><td><p><code class=\"xref py py-class docutils literal notranslate\"><span class=\"pre\">clongfloat</span></code></p></td>\n",
    "<td></td>\n",
    "<td><p><code class=\"docutils literal notranslate\"><span class=\"pre\">'G'</span></code></p></td>\n",
    "</tr>\n",
    "<tr class=\"row-even\"><td><p><code class=\"xref py py-class docutils literal notranslate\"><span class=\"pre\">complex64</span></code></p></td>\n",
    "<td><p>two 32-bit floats</p></td>\n",
    "<td></td>\n",
    "</tr>\n",
    "<tr class=\"row-odd\"><td><p><code class=\"xref py py-class docutils literal notranslate\"><span class=\"pre\">complex128</span></code></p></td>\n",
    "<td><p>two 64-bit floats</p></td>\n",
    "<td></td>\n",
    "</tr>\n",
    "<tr class=\"row-even\"><td><p><code class=\"xref py py-class docutils literal notranslate\"><span class=\"pre\">complex192</span></code></p></td>\n",
    "<td><p>two 96-bit floats,\n",
    "platform?</p></td>\n",
    "<td></td>\n",
    "</tr>\n",
    "<tr class=\"row-odd\"><td><p><code class=\"xref py py-class docutils literal notranslate\"><span class=\"pre\">complex256</span></code></p></td>\n",
    "<td><p>two 128-bit floats,\n",
    "platform?</p></td>\n",
    "<td></td>\n",
    "</tr>\n",
    "</tbody>\n",
    "</table>\n",
    "<p>Any Python object:</p>\n",
    "<table class=\"docutils align-default\">\n",
    "<colgroup>\n",
    "<col style=\"width: 30%\" />\n",
    "<col style=\"width: 46%\" />\n",
    "<col style=\"width: 24%\" />\n",
    "</colgroup>\n",
    "<tbody>\n",
    "<tr class=\"row-odd\"><td><p><code class=\"xref py py-class docutils literal notranslate\"><span class=\"pre\">object_</span></code></p></td>\n",
    "<td><p>any Python object</p></td>\n",
    "<td><p><code class=\"docutils literal notranslate\"><span class=\"pre\">'O'</span></code></p></td>\n",
    "</tr>\n",
    "</tbody>\n",
    "</table>"
   ]
  },
  {
   "cell_type": "markdown",
   "metadata": {},
   "source": [
    "## But don't worry it's not that bad\n",
    "### Let's start with Arrays\n",
    "An array is a central data structure of the NumPy library. An array is a grid of values and it contains information about the raw data, how to locate an element, and how to interpret an element. It has a grid of elements that can be indexed in various ways. The elements are all of the same type, referred to as the array dtype.\n",
    "\n",
    "An array can be indexed by a tuple of nonnegative integers, by booleans, by another array, or by integers. The rank of the array is the number of dimensions. The shape of the array is a tuple of integers giving the size of the array along each dimension.\n",
    "\n",
    "We mainly work with regular numbers like integers, so let's mess around with some basic examples and see what shakes out.\n",
    "\n",
    "https://numpy.org/doc/stable/user/absolute_beginners.html"
   ]
  },
  {
   "cell_type": "code",
   "execution_count": null,
   "metadata": {},
   "outputs": [],
   "source": [
    "# finish this code \n",
    "x = 20\n",
    "y = 40\n",
    "b = np.arange(x,y,2) # make a 1x11 array from 20 to 40\n",
    "print(b.size) # show the size\n",
    "print(b) # show what's inside\n",
    "b = b.reshape(5,2) # change the dimensions to 2 x 5\n",
    "b # tell be the difference between print(b) and just 'b'"
   ]
  },
  {
   "cell_type": "code",
   "execution_count": null,
   "metadata": {},
   "outputs": [],
   "source": [
    "# fun with commands\n",
    "a.shape"
   ]
  },
  {
   "cell_type": "code",
   "execution_count": null,
   "metadata": {},
   "outputs": [],
   "source": [
    "a.ndim"
   ]
  },
  {
   "cell_type": "code",
   "execution_count": null,
   "metadata": {},
   "outputs": [],
   "source": [
    "a.dtype.name"
   ]
  },
  {
   "cell_type": "code",
   "execution_count": null,
   "metadata": {},
   "outputs": [],
   "source": [
    "a.itemsize"
   ]
  },
  {
   "cell_type": "code",
   "execution_count": null,
   "metadata": {},
   "outputs": [],
   "source": [
    "a.size"
   ]
  },
  {
   "cell_type": "code",
   "execution_count": null,
   "metadata": {},
   "outputs": [],
   "source": [
    "type(a)"
   ]
  },
  {
   "cell_type": "code",
   "execution_count": null,
   "metadata": {},
   "outputs": [],
   "source": [
    "b = np.array([6, 7, 8])\n",
    "b"
   ]
  },
  {
   "cell_type": "code",
   "execution_count": null,
   "metadata": {},
   "outputs": [],
   "source": [
    "type(b)"
   ]
  },
  {
   "cell_type": "code",
   "execution_count": null,
   "metadata": {},
   "outputs": [],
   "source": [
    "# Arithmetic operators on arrays apply elementwise.\n",
    "# A new array is created and filled with the result\n",
    "a = np.array( [20,30,40,50] )\n",
    "b = np.arange( 4 )\n",
    "print(a)\n",
    "print(b)"
   ]
  },
  {
   "cell_type": "code",
   "execution_count": null,
   "metadata": {},
   "outputs": [],
   "source": [
    "c = a-b # simple\n",
    "c"
   ]
  },
  {
   "cell_type": "code",
   "execution_count": null,
   "metadata": {},
   "outputs": [],
   "source": [
    "b**2 # what does the double ** do?"
   ]
  },
  {
   "cell_type": "code",
   "execution_count": null,
   "metadata": {},
   "outputs": [],
   "source": [
    "10*np.sin(a) # another neat function of numpy np.sin()"
   ]
  },
  {
   "cell_type": "code",
   "execution_count": null,
   "metadata": {},
   "outputs": [],
   "source": [
    "tesa<35 # boolean values (but why)?"
   ]
  },
  {
   "cell_type": "code",
   "execution_count": null,
   "metadata": {},
   "outputs": [],
   "source": [
    "from numpy import pi\n",
    "np.linspace( 0, 2, 9 )                 # 9 numbers from 0 to 2"
   ]
  },
  {
   "cell_type": "code",
   "execution_count": null,
   "metadata": {},
   "outputs": [],
   "source": [
    "x = np.linspace( 0, 2*pi, 100 )        # useful to evaluate function at lots of points\n",
    "print(x)"
   ]
  },
  {
   "cell_type": "markdown",
   "metadata": {},
   "source": [
    "# Indexing & Slicing\n",
    "## Sometimes we need to pull out certain elements of an array\n",
    "This is called indexing and is very helpful when working with big data sets and time series types of data.  Remember that python uses 0 indexing so the first element of any array or matrix is referred to as the 0 element.\n",
    "\n",
    "[id]: https://numpy.org/doc/stable/_images/np_indexing.png\n",
    "\n",
    "![Alt text][id]"
   ]
  },
  {
   "cell_type": "code",
   "execution_count": null,
   "metadata": {},
   "outputs": [],
   "source": [
    "# let's do some indexing\n",
    "a = np.arange(10)**3\n",
    "print(a) # remember the double **?"
   ]
  },
  {
   "cell_type": "code",
   "execution_count": null,
   "metadata": {},
   "outputs": [],
   "source": [
    "# only pull out the number 8 from array a, remember 0 indexing!\n",
    "x = 5000\n",
    "print(a[x]) "
   ]
  },
  {
   "cell_type": "code",
   "execution_count": null,
   "metadata": {},
   "outputs": [],
   "source": [
    "# pull out only [8 27 64]\n",
    "y = -1\n",
    "print(a[x:y])\n"
   ]
  },
  {
   "cell_type": "code",
   "execution_count": null,
   "metadata": {},
   "outputs": [],
   "source": [
    "# change every other element to 1000 from index 0 to 6\n",
    "y = 6 \n",
    "z = 1\n",
    "a[:y:z] = 1000\n",
    "print(a)"
   ]
  },
  {
   "cell_type": "code",
   "execution_count": null,
   "metadata": {},
   "outputs": [],
   "source": [
    "# a is now reversed\n",
    "print(a[ : :-1]) "
   ]
  },
  {
   "cell_type": "code",
   "execution_count": null,
   "metadata": {},
   "outputs": [],
   "source": [
    "# Get loopy with it.  Tell me what i is on each loop\n",
    "for i in a:\n",
    "    print(i**(1/3))"
   ]
  },
  {
   "cell_type": "markdown",
   "metadata": {},
   "source": [
    "# Some notes on Arrays\n",
    "We've been making and manipulating arrays for a bit now, so here are some things to remember:\n",
    "\n",
    "Arrays can be created from a regular Python `list` or `tuple` using the `array` function. The type of the resulting array is deduced from the type of the elements in the sequences.\n",
    "\n",
    "# Printing Arrays\n",
    "When you print an array, NumPy displays it in a similar way to nested lists, but with the following layout:\n",
    "* the last axis is printed from left to right,\n",
    "* the second-to-last is printed from top to bottom,\n",
    "* the rest are also printed from top to bottom, with each slice separated from the next by an empty line.\n",
    "\n",
    ">One-dimensional arrays are then printed as rows, bidimensionals as matrices and tridimensionals as lists of matrices.\n",
    ">\n",
    ">You might occasionally hear an array referred to as a “ndarray,” which is shorthand for “N-dimensional array.” An N-dimensional array is simply an array with any number of dimensions. You might also hear 1-D, or one-dimensional array, 2-D, or two-dimensional array, and so on. The NumPy ndarray class is used to represent both matrices and vectors. A vector is an array with a single dimension (there’s no difference between row and column vectors), while a matrix refers to an array with two dimensions. For 3-D or higher dimensional arrays, the term _`tensor`_ is also commonly used."
   ]
  },
  {
   "cell_type": "markdown",
   "metadata": {},
   "source": [
    "# Lastly MNE\n",
    "## Rather than reinvent the wheel I'm borrowing heavily from MNE and Scipy Lecture Notes\n",
    "### If you're needing a good reference start with these places which are rad\n",
    "\n",
    "http://scipy-lectures.org/index.html\n",
    "https://mne.tools/stable/index.html\n",
    "\n",
    "Let's move over to the other jupytr notebook: plot_modifying_data_inplace.ipynb"
   ]
  }
 ],
 "metadata": {
  "kernelspec": {
   "display_name": "Python 3",
   "language": "python",
   "name": "python3"
  },
  "language_info": {
   "codemirror_mode": {
    "name": "ipython",
    "version": 3
   },
   "file_extension": ".py",
   "mimetype": "text/x-python",
   "name": "python",
   "nbconvert_exporter": "python",
   "pygments_lexer": "ipython3",
   "version": "3.8.5"
  }
 },
 "nbformat": 4,
 "nbformat_minor": 4
}
