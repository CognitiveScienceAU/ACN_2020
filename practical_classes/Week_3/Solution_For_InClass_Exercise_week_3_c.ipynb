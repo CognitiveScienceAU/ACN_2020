{
 "cells": [
  {
   "cell_type": "markdown",
   "metadata": {},
   "source": [
    "# Solutions for in class exercise\n"
   ]
  },
  {
   "cell_type": "code",
   "execution_count": null,
   "metadata": {},
   "outputs": [],
   "source": [
    "import os.path as op\n",
    "\n",
    "import numpy as np\n",
    "import matplotlib.pyplot as plt\n",
    "\n",
    "import mne\n",
    "from mne.time_frequency import tfr_morlet, psd_multitaper, psd_welch\n",
    "from mne.datasets import somato"
   ]
  },
  {
   "cell_type": "code",
   "execution_count": null,
   "metadata": {},
   "outputs": [],
   "source": [
    "# Load\n",
    "data_path = somato.data_path()\n",
    "subject = '01'\n",
    "task = 'somato'\n",
    "raw_fname = op.join(data_path, 'sub-{}'.format(subject), 'meg',\n",
    "                    'sub-{}_task-{}_meg.fif'.format(subject, task))"
   ]
  },
  {
   "cell_type": "code",
   "execution_count": null,
   "metadata": {},
   "outputs": [],
   "source": [
    "# Setup for reading the raw data\n",
    "raw = mne.io.read_raw_fif(raw_fname)\n",
    "events = mne.find_events(raw, stim_channel='STI 014')"
   ]
  },
  {
   "cell_type": "code",
   "execution_count": null,
   "metadata": {},
   "outputs": [],
   "source": [
    "# picks MEG channels\n",
    "picks = mne.pick_types(raw.info, meg='grad', eeg=False, eog=True, stim=False)"
   ]
  },
  {
   "cell_type": "code",
   "execution_count": null,
   "metadata": {},
   "outputs": [],
   "source": [
    "event_id, tmin, tmax = 1, -1., 3.  # Nice aspect of python to define variables thusly\n",
    "baseline = (None, 0)\n",
    "epochs = mne.Epochs(raw, events, event_id, tmin, tmax, picks=picks,\n",
    "                    baseline=baseline, reject=dict(grad=4000e-13, eog=350e-6),\n",
    "                    preload=True)\n",
    "\n",
    "epochs.resample(200., npad='auto')  # resample to reduce computation time"
   ]
  },
  {
   "cell_type": "code",
   "execution_count": null,
   "metadata": {},
   "outputs": [],
   "source": [
    "# define frequencies of interest (log-spaced)\n",
    "freqs = np.logspace(*np.log10([6, 35]), num=8)\n",
    "n_cycles = freqs / 2.  # different number of cycle per frequency\n",
    "power, itc = tfr_morlet(epochs, freqs=freqs, n_cycles=n_cycles, use_fft=True,\n",
    "                        return_itc=True, decim=3, n_jobs=1)"
   ]
  },
  {
   "cell_type": "code",
   "execution_count": null,
   "metadata": {},
   "outputs": [],
   "source": [
    "bands = [(4, 8, 'Theta'), (8, 12, 'Alpha'),\n",
    "                 (12, 30, 'Beta'), (30, 45, 'Gamma')]"
   ]
  },
  {
   "cell_type": "code",
   "execution_count": null,
   "metadata": {},
   "outputs": [],
   "source": [
    "for i, j, k in bands:\n",
    "    itc.plot_topomap(title=['Inter-Trial coherence in ' + k + ' band'], baseline=(-0.5, 0), mode='zscore', vmin=0.,\n",
    "                 vmax=1.0, cmap='Reds', fmin=i, fmax=j, size=4)\n"
   ]
  }
 ],
 "metadata": {
  "kernelspec": {
   "display_name": "Python 3",
   "language": "python",
   "name": "python3"
  },
  "language_info": {
   "codemirror_mode": {
    "name": "ipython",
    "version": 3
   },
   "file_extension": ".py",
   "mimetype": "text/x-python",
   "name": "python",
   "nbconvert_exporter": "python",
   "pygments_lexer": "ipython3",
   "version": "3.8.5"
  }
 },
 "nbformat": 4,
 "nbformat_minor": 4
}
