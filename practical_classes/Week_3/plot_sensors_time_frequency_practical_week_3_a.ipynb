{
 "cells": [
  {
   "cell_type": "code",
   "execution_count": null,
   "metadata": {},
   "outputs": [],
   "source": [
    "%matplotlib inline"
   ]
  },
  {
   "cell_type": "markdown",
   "metadata": {},
   "source": [
    "\n",
    "\n",
    "# Frequency and time-frequency sensors analysis\n",
    "\n",
    "The objective is to show you how to explore the spectral content\n",
    "of your data (frequency and time-frequency). Here we'll work on Epochs.\n",
    "\n",
    "We will use this dataset: `somato-dataset`. It contains so-called event\n",
    "related synchronizations (ERS) / desynchronizations (ERD) in the beta band.\n"
   ]
  },
  {
   "cell_type": "code",
   "execution_count": null,
   "metadata": {},
   "outputs": [],
   "source": [
    "# Authors: Alexandre Gramfort <alexandre.gramfort@inria.fr>\n",
    "#          Stefan Appelhoff <stefan.appelhoff@mailbox.org>\n",
    "#          Richard Höchenberger <richard.hoechenberger@gmail.com>\n",
    "#\n",
    "# License: BSD (3-clause)\n",
    "import os.path as op\n",
    "\n",
    "import numpy as np\n",
    "import matplotlib.pyplot as plt\n",
    "\n",
    "import mne\n",
    "from mne.time_frequency import tfr_morlet, psd_multitaper, psd_welch\n",
    "from mne.datasets import somato"
   ]
  },
  {
   "cell_type": "markdown",
   "metadata": {},
   "source": [
    "Set parameters\n",
    "\n"
   ]
  },
  {
   "cell_type": "code",
   "execution_count": null,
   "metadata": {},
   "outputs": [],
   "source": [
    "# Explain what the command .data_path() does and why possible\n",
    "data_path = somato.data_path()\n",
    "subject = '01'\n",
    "task = 'somato'\n",
    "raw_fname = op.join(data_path, 'sub-{}'.format(subject), 'meg',\n",
    "                    'sub-{}_task-{}_meg.fif'.format(subject, task))"
   ]
  },
  {
   "cell_type": "code",
   "execution_count": null,
   "metadata": {},
   "outputs": [],
   "source": [
    "# Setup for reading the raw data\n",
    "raw = mne.io.read_raw_fif(raw_fname)\n",
    "events = mne.find_events(raw, stim_channel='STI 014')"
   ]
  },
  {
   "cell_type": "code",
   "execution_count": null,
   "metadata": {},
   "outputs": [],
   "source": [
    "# picks MEG channels\n",
    "picks = mne.pick_types(raw.info, meg=True, eeg=False, eog=True, stim=False)"
   ]
  },
  {
   "cell_type": "code",
   "execution_count": null,
   "metadata": {},
   "outputs": [],
   "source": [
    "# Construct Epochs\n",
    "event_id, tmin, tmax = 1, -1., 3.  # Nice aspect of python to define variables thusly\n",
    "baseline = (None, 0)\n",
    "epochs = mne.Epochs(raw, events, event_id, tmin, tmax, picks=picks,\n",
    "                    baseline=baseline, reject=dict(grad=4000e-13, eog=350e-6),\n",
    "                    preload=True)\n",
    "\n",
    "epochs.resample(200., npad='auto')  # resample to reduce computation time"
   ]
  },
  {
   "cell_type": "markdown",
   "metadata": {},
   "source": [
    "## Frequency analysis\n",
    "\n",
    "We start by exploring the frequence content of our epochs.\n",
    "\n",
    "* Let's first check out all channel types by averaging across epochs."
   ]
  },
  {
   "cell_type": "code",
   "execution_count": null,
   "metadata": {},
   "outputs": [],
   "source": [
    "# Make a power spectrum density plot\n",
    "epochs.plot_psd(fmin=2., fmax=40., average=True, spatial_colors=False)"
   ]
  },
  {
   "cell_type": "code",
   "execution_count": null,
   "metadata": {},
   "outputs": [],
   "source": [
    "# Now let's take a look at the spatial distributions of the PSD.\n",
    "bands = [(0, 4, 'Delta'), (4, 8, 'Theta'), (8, 12, 'Alpha'),\n",
    "                 (12, 30, 'Beta'), (30, 45, 'Gamma')]\n",
    "epochs.plot_psd_topomap(bands=bands, ch_type='grad', normalize=True)"
   ]
  },
  {
   "cell_type": "code",
   "execution_count": null,
   "metadata": {},
   "outputs": [],
   "source": [
    "epochs.plot_psd_topomap(bands=bands, ch_type='mag', normalize=True)"
   ]
  },
  {
   "cell_type": "markdown",
   "metadata": {},
   "source": [
    "Alternatively, you can also create PSDs from Epochs objects with functions\n",
    "that start with ``psd_`` such as\n",
    "`mne.time_frequency.psd_multitaper` and `mne.time_frequency.psd_welch`.\n",
    "\n",
    "\n",
    "Notably, `mne.time_frequency.psd_welch` supports the keyword argument\n",
    "``average``, which specifies how to estimate the PSD based on the individual\n",
    "windowed segments. The default is ``average='mean'``, which simply calculates\n",
    "the arithmetic mean across segments. Specifying ``average='median'``, in\n",
    "contrast, returns the PSD based on the median of the segments (corrected for\n",
    "bias relative to the mean), which is a more robust measure.\n",
    "\n"
   ]
  },
  {
   "cell_type": "code",
   "execution_count": null,
   "metadata": {},
   "outputs": [],
   "source": [
    "# pick MEG just gradiometers \n",
    "picks = mne.pick_types(epochs.info, meg='grad', eeg=False, eog=True, stim=False)"
   ]
  },
  {
   "cell_type": "code",
   "execution_count": null,
   "metadata": {},
   "outputs": [],
   "source": [
    "# Estimate PSDs based on \"mean\" and \"median\" averaging for comparison.\n",
    "kwargs = dict(picks=picks, fmin=2, fmax=40, n_jobs=1)\n",
    "psds_welch_mean, freqs_mean = psd_welch(epochs, average='mean', **kwargs)\n",
    "psds_welch_median, freqs_median = psd_welch(epochs, average='median', **kwargs)\n",
    "\n",
    "# Convert power to dB scale.\n",
    "psds_welch_mean_db = 10 * np.log10(psds_welch_mean)\n",
    "psds_welch_median_db = 10 * np.log10(psds_welch_median)\n",
    "\n",
    "# We will only plot the PSD for a single sensor in the first epoch.\n",
    "ch_name = 'MEG 0122'\n",
    "ch_idx = epochs.info['ch_names'].index(ch_name)\n",
    "epo_idx = 0\n",
    "\n",
    "_, ax = plt.subplots()\n",
    "ax.plot(freqs_mean, psds_welch_mean_db[epo_idx, ch_idx, :], color='k',\n",
    "        ls='-', label='mean of segments')\n",
    "ax.plot(freqs_median, psds_welch_median_db[epo_idx, ch_idx, :], color='k',\n",
    "        ls='--', label='median of segments')\n",
    "\n",
    "ax.set(title='Welch PSD ({}, Epoch {})'.format(ch_name, epo_idx),\n",
    "       xlabel='Frequency (Hz)', ylabel='Power Spectral Density (dB)')\n",
    "ax.legend(loc='upper right')\n",
    "plt.show()"
   ]
  },
  {
   "cell_type": "code",
   "execution_count": null,
   "metadata": {},
   "outputs": [],
   "source": [
    "# Let's look at this again but without the dB conversion\n",
    "# We will only plot the PSD for a single sensor in the first epoch.\n",
    "ch_name = 'MEG 0122'\n",
    "ch_idx = epochs.info['ch_names'].index(ch_name)\n",
    "epo_idx = 0\n",
    "\n",
    "_, ax = plt.subplots()\n",
    "ax.plot(freqs_mean, psds_welch_mean[epo_idx, ch_idx, :], color='k',\n",
    "        ls='-', label='mean of segments')\n",
    "ax.plot(freqs_median, psds_welch_median[epo_idx, ch_idx, :], color='k',\n",
    "        ls='--', label='median of segments')\n",
    "\n",
    "ax.set(title='Welch PSD ({}, Epoch {})'.format(ch_name, epo_idx),\n",
    "       xlabel='Frequency (Hz)')\n",
    "ax.legend(loc='upper right')\n",
    "plt.show()"
   ]
  },
  {
   "cell_type": "markdown",
   "metadata": {},
   "source": [
    "\n",
    "## Time-frequency analysis: power and inter-trial coherence\n",
    "\n",
    "We now compute time-frequency representations (TFRs) from our Epochs.\n",
    "We'll look at power and inter-trial coherence (ITC).\n",
    "\n",
    "To this we'll use the function `mne.time_frequency.tfr_morlet`\n",
    "but you can also use `mne.time_frequency.tfr_multitaper`\n",
    "or `mne.time_frequency.tfr_stockwell`."
   ]
  },
  {
   "cell_type": "code",
   "execution_count": null,
   "metadata": {},
   "outputs": [],
   "source": [
    "# define frequencies of interest (log-spaced)\n",
    "freqs = np.logspace(*np.log10([6, 35]), num=8)\n",
    "n_cycles = freqs / 2.  # different number of cycle per frequency\n",
    "power, itc = tfr_morlet(epochs, freqs=freqs, n_cycles=n_cycles, use_fft=True,\n",
    "                        return_itc=True, decim=3, n_jobs=1, picks=picks)"
   ]
  },
  {
   "cell_type": "markdown",
   "metadata": {},
   "source": [
    "## Inspect power\n",
    "\n",
    "<div class=\"alert alert-info\"><h4>Note</h4><p>The generated figures are interactive. In the topo you can click\n",
    "    on an image to visualize the data for one sensor.\n",
    "    You can also select a portion in the time-frequency plane to\n",
    "    obtain a topomap for a certain time-frequency region.</p></div>\n",
    "\n"
   ]
  },
  {
   "cell_type": "code",
   "execution_count": null,
   "metadata": {},
   "outputs": [],
   "source": [
    "# Let's skip this cell for right now and then we can come back\n",
    "# %matplotlib qt"
   ]
  },
  {
   "cell_type": "code",
   "execution_count": null,
   "metadata": {},
   "outputs": [],
   "source": [
    "power.plot_topo(baseline=(-0.5, 0), mode='logratio', title='Average power')\n",
    "power.plot([82], baseline=(-0.5, 0), mode='logratio', title=power.ch_names[82])\n",
    "\n",
    "fig, axis = plt.subplots(1, 2, figsize=(7, 4))\n",
    "power.plot_topomap(ch_type='grad', tmin=0.5, tmax=1.5, fmin=8, fmax=12,\n",
    "                   baseline=(-0.5, 0), mode='logratio', axes=axis[0],\n",
    "                   title='Alpha', show=False)\n",
    "power.plot_topomap(ch_type='grad', tmin=0.5, tmax=1.5, fmin=13, fmax=25,\n",
    "                   baseline=(-0.5, 0), mode='logratio', axes=axis[1],\n",
    "                   title='Beta', show=False)\n",
    "mne.viz.tight_layout()\n",
    "plt.show()"
   ]
  },
  {
   "cell_type": "markdown",
   "metadata": {},
   "source": [
    "## Joint Plot\n",
    "You can also create a joint plot showing both the aggregated TFR\n",
    "across channels and topomaps at specific times and frequencies to obtain\n",
    "a quick overview regarding oscillatory effects across time and space.\n",
    "\n"
   ]
  },
  {
   "cell_type": "code",
   "execution_count": null,
   "metadata": {},
   "outputs": [],
   "source": [
    "power.plot_joint(baseline=(-0.5, 0), mode='mean', tmin=-.5, tmax=2,\n",
    "                 timefreqs=[(.5, 10), (1.3, 8)])"
   ]
  },
  {
   "cell_type": "markdown",
   "metadata": {},
   "source": [
    "## Inspect ITC\n",
    "example: https://twitter.com/nschawor/status/1207063815830921222\n",
    "\n"
   ]
  },
  {
   "cell_type": "code",
   "execution_count": null,
   "metadata": {},
   "outputs": [],
   "source": [
    "itc.plot_topo(title='Inter-Trial coherence', vmin=0., vmax=1., cmap='Reds')"
   ]
  },
  {
   "cell_type": "markdown",
   "metadata": {},
   "source": [
    "<div class=\"alert alert-info\"><h4>Note</h4><p>Baseline correction can be applied to power or done in plots.\n",
    "    To illustrate the baseline correction in plots, the next line is\n",
    "    commented power.apply_baseline(baseline=(-0.5, 0), mode='logratio')</p></div>\n",
    "\n",
    "## Exercise\n",
    "\n",
    "   - Visualize the inter-trial coherence values as topomaps as done with\n",
    "     power by BAND.\n",
    "\n"
   ]
  }
 ],
 "metadata": {
  "kernelspec": {
   "display_name": "Python 3",
   "language": "python",
   "name": "python3"
  },
  "language_info": {
   "codemirror_mode": {
    "name": "ipython",
    "version": 3
   },
   "file_extension": ".py",
   "mimetype": "text/x-python",
   "name": "python",
   "nbconvert_exporter": "python",
   "pygments_lexer": "ipython3",
   "version": "3.8.5"
  }
 },
 "nbformat": 4,
 "nbformat_minor": 1
}
