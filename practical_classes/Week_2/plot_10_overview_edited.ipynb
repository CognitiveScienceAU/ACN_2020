{
 "cells": [
  {
   "cell_type": "code",
   "execution_count": null,
   "metadata": {
    "jupyter": {
     "outputs_hidden": false
    }
   },
   "outputs": [],
   "source": [
    "%matplotlib inline"
   ]
  },
  {
   "cell_type": "markdown",
   "metadata": {},
   "source": [
    "\n",
    "\n",
    "# Overview of MEG/EEG analysis with MNE-Python\n",
    "\n",
    "This tutorial covers the basic EEG/MEG pipeline for event-related analysis:\n",
    "loading data, epoching, averaging, plotting, and estimating cortical activity\n",
    "from sensor data. It introduces the core MNE-Python data structures\n",
    ":class:`~mne.io.Raw`, :class:`~mne.Epochs`, :class:`~mne.Evoked`, and\n",
    ":class:`~mne.SourceEstimate`, and covers a lot of ground fairly quickly (at the\n",
    "expense of depth). Subsequent tutorials address each of these topics in greater\n",
    "detail.\n",
    "   :depth: 1\n",
    "\n",
    "We begin by importing the necessary Python modules:\n"
   ]
  },
  {
   "cell_type": "code",
   "execution_count": null,
   "metadata": {
    "jupyter": {
     "outputs_hidden": false
    }
   },
   "outputs": [],
   "source": [
    "import os\n",
    "import numpy as np\n",
    "import mne"
   ]
  },
  {
   "cell_type": "markdown",
   "metadata": {},
   "source": [
    "## Loading data\n",
    "\n",
    "MNE-Python data structures are based around the FIF file format from\n",
    "Neuromag, but there are reader functions for `a wide variety of other\n",
    "data formats <data-formats>`. MNE-Python also has interfaces to a\n",
    "variety of `publicly available datasets <datasets>`,\n",
    "which MNE-Python can download and manage for you.\n",
    "\n",
    "We'll start this tutorial by loading one of the example datasets (called\n",
    "\"`sample-dataset`\"), which contains EEG and MEG data from one subject\n",
    "performing an audiovisual experiment, along with structural MRI scans for\n",
    "that subject. The :func:`mne.datasets.sample.data_path` function will\n",
    "automatically download the dataset if it isn't found in one of the expected\n",
    "locations, then return the directory path to the dataset (see the\n",
    "documentation of :func:`~mne.datasets.sample.data_path` for a list of places\n",
    "it checks before downloading). Note also that for this tutorial to run\n",
    "smoothly on our servers, we're using a filtered and downsampled version of\n",
    "the data (:file:`sample_audvis_filt-0-40_raw.fif`), but an unfiltered version\n",
    "(:file:`sample_audvis_raw.fif`) is also included in the sample dataset and\n",
    "could be substituted here when running the tutorial locally.\n",
    "\n"
   ]
  },
  {
   "cell_type": "code",
   "execution_count": null,
   "metadata": {
    "jupyter": {
     "outputs_hidden": false
    }
   },
   "outputs": [],
   "source": [
    "sample_data_folder = mne.datasets.sample.data_path()\n",
    "sample_data_raw_file = os.path.join(sample_data_folder, 'MEG', 'sample',\n",
    "                                    'sample_audvis_filt-0-40_raw.fif')\n",
    "raw = mne.io.read_raw_fif(sample_data_raw_file)"
   ]
  },
  {
   "cell_type": "markdown",
   "metadata": {},
   "source": [
    "By default, :func:`~mne.io.read_raw_fif` displays some information about the\n",
    "file it's loading; for example, here it tells us that there are four\n",
    "\"projection items\" in the file along with the recorded data; those are\n",
    ":term:`SSP projectors <projector>` calculated to remove environmental noise\n",
    "from the MEG signals, plus a projector to mean-reference the EEG channels;\n",
    "these are discussed in the tutorial `tut-projectors-background`.\n",
    "In addition to the information displayed during loading,\n",
    "you can get a glimpse of the basic details of a :class:`~mne.io.Raw` object\n",
    "by printing it; even more is available by printing its ``info`` attribute\n",
    "(a :class:`dictionary-like object <mne.Info>` that is preserved across\n",
    ":class:`~mne.io.Raw`, :class:`~mne.Epochs`, and :class:`~mne.Evoked`\n",
    "objects). The ``info`` data structure keeps track of channel locations,\n",
    "applied filters, projectors, etc. Notice especially the ``chs`` entry,\n",
    "showing that MNE-Python detects different sensor types and handles each\n",
    "appropriately. See `tut-info-class` for more on the :class:`~mne.Info`\n",
    "class.\n",
    "\n"
   ]
  },
  {
   "cell_type": "code",
   "execution_count": null,
   "metadata": {
    "jupyter": {
     "outputs_hidden": false
    }
   },
   "outputs": [],
   "source": [
    "print(raw)\n",
    "print(raw.info)"
   ]
  },
  {
   "cell_type": "markdown",
   "metadata": {},
   "source": [
    ":class:`~mne.io.Raw` objects also have several built-in plotting methods;\n",
    "here we show the power spectral density (PSD) for each sensor type with\n",
    ":meth:`~mne.io.Raw.plot_psd`, as well as a plot of the raw sensor traces with\n",
    ":meth:`~mne.io.Raw.plot`. In the PSD plot, we'll only plot frequencies below\n",
    "50 Hz (since our data are low-pass filtered at 40 Hz). In interactive Python\n",
    "sessions, :meth:`~mne.io.Raw.plot` is interactive and allows scrolling,\n",
    "scaling, bad channel marking, annotation, projector toggling, etc.\n",
    "\n"
   ]
  },
  {
   "cell_type": "code",
   "execution_count": null,
   "metadata": {
    "jupyter": {
     "outputs_hidden": false
    }
   },
   "outputs": [],
   "source": [
    "raw.plot(duration=5, n_channels=30)"
   ]
  },
  {
   "cell_type": "markdown",
   "metadata": {},
   "source": [
    "## Preprocessing\n",
    "\n",
    "MNE-Python supports a variety of preprocessing approaches and techniques\n",
    "(maxwell filtering, signal-space projection, independent components analysis,\n",
    "filtering, downsampling, etc); see the full list of capabilities in the\n",
    ":mod:`mne.preprocessing` and :mod:`mne.filter` submodules. Here we'll clean\n",
    "up our data by performing independent components analysis\n",
    "(:class:`~mne.preprocessing.ICA`); for brevity we'll skip the steps that\n",
    "helped us determined which components best capture the artifacts (see\n",
    "`tut-artifact-ica` for a detailed walk-through of that process).\n",
    "\n"
   ]
  },
  {
   "cell_type": "code",
   "execution_count": null,
   "metadata": {
    "jupyter": {
     "outputs_hidden": false
    }
   },
   "outputs": [],
   "source": [
    "# set up and fit the ICA\n",
    "ica = mne.preprocessing.ICA(n_components=20, random_state=97, max_iter=800)\n",
    "ica.fit(raw)\n",
    "ica.exclude = [1, 2]  # details on how we picked these are omitted here\n",
    "ica.plot_properties(raw, picks=ica.exclude)"
   ]
  },
  {
   "cell_type": "markdown",
   "metadata": {},
   "source": [
    "Once we're confident about which component(s) we want to remove, we pass them\n",
    "as the ``exclude`` parameter and then apply the ICA to the raw signal. The\n",
    ":meth:`~mne.preprocessing.ICA.apply` method requires the raw data to be\n",
    "loaded into memory (by default it's only read from disk as-needed), so we'll\n",
    "use :meth:`~mne.io.Raw.load_data` first. We'll also make a copy of the\n",
    ":class:`~mne.io.Raw` object so we can compare the signal before and after\n",
    "artifact removal side-by-side:\n",
    "\n"
   ]
  },
  {
   "cell_type": "code",
   "execution_count": null,
   "metadata": {
    "jupyter": {
     "outputs_hidden": false
    }
   },
   "outputs": [],
   "source": [
    "orig_raw = raw.copy()\n",
    "raw.load_data()\n",
    "ica.apply(raw)\n",
    "\n",
    "# show some frontal channels to clearly illustrate the artifact removal\n",
    "chs = ['MEG 0111', 'MEG 0121', 'MEG 0131', 'MEG 0211', 'MEG 0221', 'MEG 0231',\n",
    "       'MEG 0311', 'MEG 0321', 'MEG 0331', 'MEG 1511', 'MEG 1521', 'MEG 1531',\n",
    "       'EEG 001', 'EEG 002', 'EEG 003', 'EEG 004', 'EEG 005', 'EEG 006',\n",
    "       'EEG 007', 'EEG 008']\n",
    "chan_idxs = [raw.ch_names.index(ch) for ch in chs]\n",
    "orig_raw.plot(order=chan_idxs, start=12, duration=4)\n",
    "raw.plot(order=chan_idxs, start=12, duration=4)"
   ]
  },
  {
   "cell_type": "markdown",
   "metadata": {},
   "source": [
    "\n",
    "## Detecting experimental events\n",
    "\n",
    "The sample dataset includes several :term:`\"STIM\" channels <stim channel>`\n",
    "that recorded electrical\n",
    "signals sent from the stimulus delivery computer (as brief DC shifts /\n",
    "squarewave pulses). These pulses (often called \"triggers\") are used in this\n",
    "dataset to mark experimental events: stimulus onset, stimulus type, and\n",
    "participant response (button press). The individual STIM channels are\n",
    "combined onto a single channel, in such a way that voltage\n",
    "levels on that channel can be unambiguously decoded as a particular event\n",
    "type. On older Neuromag systems (such as that used to record the sample data)\n",
    "this summation channel was called ``STI 014``, so we can pass that channel\n",
    "name to the :func:`mne.find_events` function to recover the timing and\n",
    "identity of the stimulus events.\n",
    "\n"
   ]
  },
  {
   "cell_type": "code",
   "execution_count": null,
   "metadata": {
    "jupyter": {
     "outputs_hidden": false
    }
   },
   "outputs": [],
   "source": [
    "events = mne.find_events(raw, stim_channel='STI 014')\n",
    "print(events[:5])  # show the first 5"
   ]
  },
  {
   "cell_type": "markdown",
   "metadata": {},
   "source": [
    "The resulting events array is an ordinary 3-column :class:`NumPy array\n",
    "<numpy.ndarray>`, with sample number in the first column and integer event ID\n",
    "in the last column; the middle column is usually ignored. Rather than keeping\n",
    "track of integer event IDs, we can provide an *event dictionary* that maps\n",
    "the integer IDs to experimental conditions or events. In this dataset, the\n",
    "mapping looks like this:\n",
    "\n",
    "\n",
    "+----------+----------------------------------------------------------+\n",
    "| Event ID | Condition                                                |\n",
    "+==========+==========================================================+\n",
    "| 1        | auditory stimulus (tone) to the left ear                 |\n",
    "+----------+----------------------------------------------------------+\n",
    "| 2        | auditory stimulus (tone) to the right ear                |\n",
    "+----------+----------------------------------------------------------+\n",
    "| 3        | visual stimulus (checkerboard) to the left visual field  |\n",
    "+----------+----------------------------------------------------------+\n",
    "| 4        | visual stimulus (checkerboard) to the right visual field |\n",
    "+----------+----------------------------------------------------------+\n",
    "| 5        | smiley face (catch trial)                                |\n",
    "+----------+----------------------------------------------------------+\n",
    "| 32       | subject button press                                     |\n",
    "+----------+----------------------------------------------------------+\n",
    "\n"
   ]
  },
  {
   "cell_type": "code",
   "execution_count": null,
   "metadata": {
    "jupyter": {
     "outputs_hidden": false
    }
   },
   "outputs": [],
   "source": [
    "event_dict = {'auditory/left': 1, 'auditory/right': 2, 'visual/left': 3,\n",
    "              'visual/right': 4, 'smiley': 5, 'buttonpress': 32}"
   ]
  },
  {
   "cell_type": "markdown",
   "metadata": {},
   "source": [
    "Event dictionaries like this one are used when extracting epochs from\n",
    "continuous data; the ``/`` character in the dictionary keys allows pooling\n",
    "across conditions by requesting partial condition descriptors (i.e.,\n",
    "requesting ``'auditory'`` will select all epochs with Event IDs 1 and 2;\n",
    "requesting ``'left'`` will select all epochs with Event IDs 1 and 3). An\n",
    "example of this is shown in the next section. There is also a convenient\n",
    ":func:`~mne.viz.plot_events` function for visualizing the distribution of\n",
    "events across the duration of the recording (to make sure event detection\n",
    "worked as expected). Here we'll also make use of the :class:`~mne.Info`\n",
    "attribute to get the sampling frequency of the recording (so our x-axis will\n",
    "be in seconds instead of in samples).\n",
    "\n"
   ]
  },
  {
   "cell_type": "code",
   "execution_count": null,
   "metadata": {
    "jupyter": {
     "outputs_hidden": false
    }
   },
   "outputs": [],
   "source": [
    "fig = mne.viz.plot_events(events, event_id=event_dict, sfreq=raw.info['sfreq'],\n",
    "                          first_samp=raw.first_samp)"
   ]
  },
  {
   "cell_type": "markdown",
   "metadata": {},
   "source": [
    "For paradigms that are not event-related (e.g., analysis of resting-state\n",
    "data), you can extract regularly spaced (possibly overlapping) spans of data\n",
    "by creating events using :func:`mne.make_fixed_length_events` and then\n",
    "proceeding with epoching as described in the next section.\n",
    "\n",
    "\n",
    "\n",
    "## Epoching continuous data\n",
    "\n",
    "The :class:`~mne.io.Raw` object and the events array are the bare minimum\n",
    "needed to create an :class:`~mne.Epochs` object, which we create with the\n",
    ":class:`~mne.Epochs` class constructor. Here we'll also specify some data\n",
    "quality constraints: we'll reject any epoch where peak-to-peak signal\n",
    "amplitude is beyond reasonable limits for that channel type. This is done\n",
    "with a *rejection dictionary*; you may include or omit thresholds for any of\n",
    "the channel types present in your data. The values given here are reasonable\n",
    "for this particular dataset, but may need to be adapted for different\n",
    "hardware or recording conditions. For a more automated approach, consider\n",
    "using the `autoreject package`_.\n",
    "\n"
   ]
  },
  {
   "cell_type": "code",
   "execution_count": null,
   "metadata": {
    "jupyter": {
     "outputs_hidden": false
    }
   },
   "outputs": [],
   "source": [
    "reject_criteria = dict(mag=4000e-15,     # 4000 fT\n",
    "                       grad=4000e-13,    # 4000 fT/cm\n",
    "                       eeg=150e-6,       # 150 µV\n",
    "                       eog=250e-6)       # 250 µV"
   ]
  },
  {
   "cell_type": "markdown",
   "metadata": {},
   "source": [
    "We'll also pass the event dictionary as the ``event_id`` parameter (so we can\n",
    "work with easy-to-pool event labels instead of the integer event IDs), and\n",
    "specify ``tmin`` and ``tmax`` (the time relative to each event at which to\n",
    "start and end each epoch). As mentioned above, by default\n",
    ":class:`~mne.io.Raw` and :class:`~mne.Epochs` data aren't loaded into memory\n",
    "(they're accessed from disk only when needed), but here we'll force loading\n",
    "into memory using the ``preload=True`` parameter so that we can see the\n",
    "results of the rejection criteria being applied:\n",
    "\n"
   ]
  },
  {
   "cell_type": "code",
   "execution_count": null,
   "metadata": {
    "jupyter": {
     "outputs_hidden": false
    }
   },
   "outputs": [],
   "source": [
    "epochs = mne.Epochs(raw, events, event_id=event_dict, tmin=-0.2, tmax=0.5,\n",
    "                    reject=reject_criteria, preload=True)"
   ]
  },
  {
   "cell_type": "markdown",
   "metadata": {},
   "source": [
    "Next we'll pool across left/right stimulus presentations so we can compare\n",
    "auditory versus visual responses. To avoid biasing our signals to the\n",
    "left or right, we'll use :meth:`~mne.Epochs.equalize_event_counts` first to\n",
    "randomly sample epochs from each condition to match the number of epochs\n",
    "present in the condition with the fewest good epochs.\n",
    "\n"
   ]
  },
  {
   "cell_type": "code",
   "execution_count": null,
   "metadata": {
    "jupyter": {
     "outputs_hidden": false
    }
   },
   "outputs": [],
   "source": [
    "conds_we_care_about = ['auditory/left', 'auditory/right',\n",
    "                       'visual/left', 'visual/right']\n",
    "epochs.equalize_event_counts(conds_we_care_about)  # this operates in-place\n",
    "aud_epochs = epochs['auditory']\n",
    "vis_epochs = epochs['visual']\n",
    "del raw, epochs  # free up memory"
   ]
  },
  {
   "cell_type": "markdown",
   "metadata": {},
   "source": [
    "Like :class:`~mne.io.Raw` objects, :class:`~mne.Epochs` objects also have a\n",
    "number of built-in plotting methods. One is :meth:`~mne.Epochs.plot_image`,\n",
    "which shows each epoch as one row of an image map, with color representing\n",
    "signal magnitude; the average evoked response and the sensor location are\n",
    "shown below the image:\n",
    "\n"
   ]
  },
  {
   "cell_type": "code",
   "execution_count": null,
   "metadata": {
    "jupyter": {
     "outputs_hidden": false
    }
   },
   "outputs": [],
   "source": [
    "aud_epochs.plot_image(picks=['MEG 1332', 'EEG 021'])"
   ]
  },
  {
   "cell_type": "markdown",
   "metadata": {},
   "source": [
    "## Estimating evoked responses\n",
    "\n",
    "Now that we have our conditions in ``aud_epochs`` and ``vis_epochs``, we can\n",
    "get an estimate of evoked responses to auditory versus visual stimuli by\n",
    "averaging together the epochs in each condition. This is as simple as calling\n",
    "the :meth:`~mne.Epochs.average` method on the :class:`~mne.Epochs` object,\n",
    "and then using a function from the :mod:`mne.viz` module to compare the\n",
    "global field power for each sensor type of the two :class:`~mne.Evoked`\n",
    "objects:\n",
    "\n"
   ]
  },
  {
   "cell_type": "code",
   "execution_count": null,
   "metadata": {
    "jupyter": {
     "outputs_hidden": false
    }
   },
   "outputs": [],
   "source": [
    "aud_evoked = aud_epochs.average()\n",
    "vis_evoked = vis_epochs.average()\n",
    "\n",
    "mne.viz.plot_compare_evokeds(dict(auditory=aud_evoked, visual=vis_evoked),\n",
    "                             legend='upper left', show_sensors='upper right')"
   ]
  },
  {
   "cell_type": "markdown",
   "metadata": {},
   "source": [
    "We can also get a more detailed view of each :class:`~mne.Evoked` object\n",
    "using other plotting methods such as :meth:`~mne.Evoked.plot_joint` or\n",
    ":meth:`~mne.Evoked.plot_topomap`. Here we'll examine just the EEG channels,\n",
    "and see the classic auditory evoked N100-P200 pattern over dorso-frontal\n",
    "electrodes, then plot scalp topographies at some additional arbitrary times:\n",
    "\n"
   ]
  },
  {
   "cell_type": "code",
   "execution_count": null,
   "metadata": {
    "jupyter": {
     "outputs_hidden": false
    }
   },
   "outputs": [],
   "source": [
    "aud_evoked.plot_joint(picks='eeg')\n",
    "aud_evoked.plot_topomap(times=[0., 0.08, 0.1, 0.12, 0.2], ch_type='eeg')"
   ]
  },
  {
   "cell_type": "markdown",
   "metadata": {},
   "source": [
    "Evoked objects can also be combined to show contrasts between conditions,\n",
    "using the `mne.combine_evoked` function. A simple difference can be\n",
    "generated by passing ``weights=[1, -1]``. We'll then plot the difference wave\n",
    "at each sensor using `~mne.Evoked.plot_topo`:\n",
    "\n"
   ]
  },
  {
   "cell_type": "code",
   "execution_count": null,
   "metadata": {
    "jupyter": {
     "outputs_hidden": false
    }
   },
   "outputs": [],
   "source": [
    "evoked_diff = mne.combine_evoked([aud_evoked, vis_evoked], weights=[1, -1])\n",
    "evoked_diff.pick_types(meg='mag').plot_topo(color='r', legend=False)"
   ]
  }
 ],
 "metadata": {
  "kernelspec": {
   "display_name": "Python 3",
   "language": "python",
   "name": "python3"
  },
  "language_info": {
   "codemirror_mode": {
    "name": "ipython",
    "version": 3
   },
   "file_extension": ".py",
   "mimetype": "text/x-python",
   "name": "python",
   "nbconvert_exporter": "python",
   "pygments_lexer": "ipython3",
   "version": "3.8.3"
  }
 },
 "nbformat": 4,
 "nbformat_minor": 4
}
